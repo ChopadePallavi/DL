{
  "nbformat": 4,
  "nbformat_minor": 0,
  "metadata": {
    "colab": {
      "provenance": []
    },
    "kernelspec": {
      "name": "python3",
      "display_name": "Python 3"
    },
    "language_info": {
      "name": "python"
    }
  },
  "cells": [
    {
      "cell_type": "code",
      "execution_count": 35,
      "metadata": {
        "id": "nFbywDTxlcCW"
      },
      "outputs": [],
      "source": [
        "import tensorflow as tf\n",
        "import matplotlib.pyplot as plt\n",
        "import random\n",
        "import numpy as np"
      ]
    },
    {
      "cell_type": "code",
      "source": [
        "dataset = tf.keras.datasets.cifar10"
      ],
      "metadata": {
        "id": "rIJ7puGomFu6"
      },
      "execution_count": 36,
      "outputs": []
    },
    {
      "cell_type": "code",
      "source": [
        "(x_train, y_train), (x_test, y_test) = dataset.load_data()"
      ],
      "metadata": {
        "id": "xI-aoU6BmTPp"
      },
      "execution_count": 37,
      "outputs": []
    },
    {
      "cell_type": "code",
      "source": [
        "labels = [\"airplane\", \"automobile\", \"bird\", \"cat\", \"deer\", \"dog\", \"frog\",\"horse\", \"ship\", \"truck\"]\n",
        "labels_dict = {i:name for i, name in enumerate(labels)}"
      ],
      "metadata": {
        "id": "AHN7pG4_mc5a"
      },
      "execution_count": 38,
      "outputs": []
    },
    {
      "cell_type": "code",
      "source": [
        "labels_dict"
      ],
      "metadata": {
        "colab": {
          "base_uri": "https://localhost:8080/"
        },
        "id": "3glq06scmijd",
        "outputId": "1e14b5a6-ba98-4560-be0f-8e332b35a679"
      },
      "execution_count": 39,
      "outputs": [
        {
          "output_type": "execute_result",
          "data": {
            "text/plain": [
              "{0: 'airplane',\n",
              " 1: 'automobile',\n",
              " 2: 'bird',\n",
              " 3: 'cat',\n",
              " 4: 'deer',\n",
              " 5: 'dog',\n",
              " 6: 'frog',\n",
              " 7: 'horse',\n",
              " 8: 'ship',\n",
              " 9: 'truck'}"
            ]
          },
          "metadata": {},
          "execution_count": 39
        }
      ]
    },
    {
      "cell_type": "code",
      "source": [
        "x_train.shape"
      ],
      "metadata": {
        "colab": {
          "base_uri": "https://localhost:8080/"
        },
        "id": "_IpaQwpqml9e",
        "outputId": "e20e609c-eb78-46ec-dccd-173745c7e4a2"
      },
      "execution_count": 40,
      "outputs": [
        {
          "output_type": "execute_result",
          "data": {
            "text/plain": [
              "(50000, 32, 32, 3)"
            ]
          },
          "metadata": {},
          "execution_count": 40
        }
      ]
    },
    {
      "cell_type": "code",
      "source": [
        "x_test.shape"
      ],
      "metadata": {
        "colab": {
          "base_uri": "https://localhost:8080/"
        },
        "id": "4Bblf-LxmqQl",
        "outputId": "ad785e54-0ded-476b-f4e1-a4cf12b9883d"
      },
      "execution_count": 41,
      "outputs": [
        {
          "output_type": "execute_result",
          "data": {
            "text/plain": [
              "(10000, 32, 32, 3)"
            ]
          },
          "metadata": {},
          "execution_count": 41
        }
      ]
    },
    {
      "cell_type": "code",
      "source": [
        "x_train, x_test = x_train/255, x_test/255"
      ],
      "metadata": {
        "id": "hVb6RyxgmtEe"
      },
      "execution_count": 42,
      "outputs": []
    },
    {
      "cell_type": "code",
      "source": [
        "model = tf.keras.models.Sequential([\n",
        "  tf.keras.layers.Conv2D(32, (3,3), input_shape=(32,32,3), activation=\"relu\"),\n",
        "  tf.keras.layers.MaxPool2D((2,2)),\n",
        "  tf.keras.layers.Conv2D(64, (2,2)),\n",
        "  tf.keras.layers.MaxPool2D((2,2)),\n",
        "  tf.keras.layers.Flatten(),\n",
        "  tf.keras.layers.Dense(128, activation=\"relu\"),\n",
        "  tf.keras.layers.Dropout(0.4),\n",
        "  tf.keras.layers.Dense(32, activation=\"relu\"),\n",
        "  tf.keras.layers.Dropout(0.2),\n",
        "  tf.keras.layers.Dense(10, activation=\"sigmoid\")\n",
        "])"
      ],
      "metadata": {
        "id": "6nvp4rALmvbL"
      },
      "execution_count": 43,
      "outputs": []
    },
    {
      "cell_type": "code",
      "source": [
        "sgd = tf.keras.optimizers.SGD(learning_rate=0.01,momentum=0.01)"
      ],
      "metadata": {
        "id": "SRBls_9Rm-Qo"
      },
      "execution_count": 44,
      "outputs": []
    },
    {
      "cell_type": "code",
      "source": [
        "model.compile(optimizer=sgd, loss=tf.keras.losses.SparseCategoricalCrossentropy(from_logits=True), metrics=[\"accuracy\"])"
      ],
      "metadata": {
        "id": "zbhU85krnBQt"
      },
      "execution_count": 45,
      "outputs": []
    },
    {
      "cell_type": "code",
      "source": [
        "history = model.fit(x_train, y_train, validation_data=(x_test, y_test),batch_size=2000, epochs=10)"
      ],
      "metadata": {
        "colab": {
          "base_uri": "https://localhost:8080/"
        },
        "id": "iItj7CqgnE3r",
        "outputId": "046a8972-e651-4fd8-8d75-5684fd2cb9c3"
      },
      "execution_count": 46,
      "outputs": [
        {
          "output_type": "stream",
          "name": "stdout",
          "text": [
            "Epoch 1/10\n",
            "25/25 [==============================] - 49s 2s/step - loss: 2.3164 - accuracy: 0.0961 - val_loss: 2.3010 - val_accuracy: 0.1018\n",
            "Epoch 2/10\n",
            "25/25 [==============================] - 50s 2s/step - loss: 2.3007 - accuracy: 0.1063 - val_loss: 2.2930 - val_accuracy: 0.1335\n",
            "Epoch 3/10\n",
            "25/25 [==============================] - 48s 2s/step - loss: 2.2947 - accuracy: 0.1148 - val_loss: 2.2878 - val_accuracy: 0.1410\n",
            "Epoch 4/10\n",
            "25/25 [==============================] - 46s 2s/step - loss: 2.2894 - accuracy: 0.1212 - val_loss: 2.2822 - val_accuracy: 0.1470\n",
            "Epoch 5/10\n",
            "25/25 [==============================] - 48s 2s/step - loss: 2.2854 - accuracy: 0.1258 - val_loss: 2.2768 - val_accuracy: 0.1570\n",
            "Epoch 6/10\n",
            "25/25 [==============================] - 48s 2s/step - loss: 2.2801 - accuracy: 0.1338 - val_loss: 2.2712 - val_accuracy: 0.1656\n",
            "Epoch 7/10\n",
            "25/25 [==============================] - 47s 2s/step - loss: 2.2753 - accuracy: 0.1400 - val_loss: 2.2649 - val_accuracy: 0.1715\n",
            "Epoch 8/10\n",
            "25/25 [==============================] - 49s 2s/step - loss: 2.2703 - accuracy: 0.1446 - val_loss: 2.2587 - val_accuracy: 0.1773\n",
            "Epoch 9/10\n",
            "25/25 [==============================] - 48s 2s/step - loss: 2.2643 - accuracy: 0.1514 - val_loss: 2.2520 - val_accuracy: 0.1831\n",
            "Epoch 10/10\n",
            "25/25 [==============================] - 46s 2s/step - loss: 2.2591 - accuracy: 0.1575 - val_loss: 2.2449 - val_accuracy: 0.1875\n"
          ]
        }
      ]
    },
    {
      "cell_type": "code",
      "source": [
        "#Loss\n",
        "plt.figure()\n",
        "plt.plot(history.history[\"loss\"], label=\"Loss\")\n",
        "plt.plot(history.history[\"val_loss\"], label=\"Validation loss\")\n",
        "plt.xlabel(\"Epochs\")\n",
        "plt.ylabel(\"Losses\")\n",
        "plt.legend()\n",
        "plt.show()"
      ],
      "metadata": {
        "colab": {
          "base_uri": "https://localhost:8080/",
          "height": 279
        },
        "id": "nOmDs2cEnNmi",
        "outputId": "b637c7f4-0211-457b-ea7e-5aab57a05256"
      },
      "execution_count": 47,
      "outputs": [
        {
          "output_type": "display_data",
          "data": {
            "text/plain": [
              "<Figure size 432x288 with 1 Axes>"
            ],
            "image/png": "[encoded data removed]"
          },
          "metadata": {
            "needs_background": "light"
          }
        }
      ]
    },
    {
      "cell_type": "code",
      "source": [
        "#Accuracy\n",
        "plt.figure()\n",
        "plt.plot(history.history[\"accuracy\"], label=\"Accuracy\")\n",
        "plt.plot(history.history[\"val_accuracy\"], label=\"Validation Accuracy\")\n",
        "plt.xlabel(\"Epochs\")\n",
        "plt.ylabel(\"Accuracy\")\n",
        "plt.legend()\n",
        "plt.show()"
      ],
      "metadata": {
        "colab": {
          "base_uri": "https://localhost:8080/",
          "height": 279
        },
        "id": "N_pl5WAdnbHM",
        "outputId": "baa53c6f-ccc8-4a7f-94b8-5d8bc624c9b6"
      },
      "execution_count": 48,
      "outputs": [
        {
          "output_type": "display_data",
          "data": {
            "text/plain": [
              "<Figure size 432x288 with 1 Axes>"
            ],
            "image/png": "[encoded data removed]"
          },
          "metadata": {
            "needs_background": "light"
          }
        }
      ]
    },
    {
      "cell_type": "code",
      "source": [
        "#Prediction\n",
        "test = random.randint(1,10000)\n",
        "test = x_test[:1]"
      ],
      "metadata": {
        "id": "v_J6nU64nlHF"
      },
      "execution_count": 49,
      "outputs": []
    },
    {
      "cell_type": "code",
      "source": [
        "test.shape"
      ],
      "metadata": {
        "colab": {
          "base_uri": "https://localhost:8080/"
        },
        "id": "AVXkB845nqFB",
        "outputId": "93fdccc6-92df-4360-9521-b7ade59602dc"
      },
      "execution_count": 50,
      "outputs": [
        {
          "output_type": "execute_result",
          "data": {
            "text/plain": [
              "(1, 32, 32, 3)"
            ]
          },
          "metadata": {},
          "execution_count": 50
        }
      ]
    },
    {
      "cell_type": "code",
      "source": [
        "plt.imshow(test[0])"
      ],
      "metadata": {
        "colab": {
          "base_uri": "https://localhost:8080/",
          "height": 283
        },
        "id": "Aw0Oc6H1ntyk",
        "outputId": "936cf7a5-0a40-4b28-f8a0-3fe87f225652"
      },
      "execution_count": 51,
      "outputs": [
        {
          "output_type": "execute_result",
          "data": {
            "text/plain": [
              "<matplotlib.image.AxesImage at 0x7f5b43169710>"
            ]
          },
          "metadata": {},
          "execution_count": 51
        },
        {
          "output_type": "display_data",
          "data": {
            "text/plain": [
              "<Figure size 432x288 with 1 Axes>"
            ],
            "image/png": "[encoded data removed]"
          },
          "metadata": {
            "needs_background": "light"
          }
        }
      ]
    },
    {
      "cell_type": "code",
      "source": [
        "test.shape"
      ],
      "metadata": {
        "colab": {
          "base_uri": "https://localhost:8080/"
        },
        "id": "h-7r0pscnwj3",
        "outputId": "6dbd4df0-4d18-48de-abf9-dfbffab1ede1"
      },
      "execution_count": 52,
      "outputs": [
        {
          "output_type": "execute_result",
          "data": {
            "text/plain": [
              "(1, 32, 32, 3)"
            ]
          },
          "metadata": {},
          "execution_count": 52
        }
      ]
    },
    {
      "cell_type": "code",
      "source": [
        "pred = model.predict(test)"
      ],
      "metadata": {
        "colab": {
          "base_uri": "https://localhost:8080/"
        },
        "id": "SXpjOqEGn3fe",
        "outputId": "a40fc8d4-cc5f-4154-fd74-06ad404f9fdd"
      },
      "execution_count": 53,
      "outputs": [
        {
          "output_type": "stream",
          "name": "stdout",
          "text": [
            "1/1 [==============================] - 0s 79ms/step\n"
          ]
        }
      ]
    },
    {
      "cell_type": "code",
      "source": [
        "pred = np.argmax(pred).astype(\"int32\")"
      ],
      "metadata": {
        "id": "JOQalBOEn7uo"
      },
      "execution_count": 54,
      "outputs": []
    },
    {
      "cell_type": "code",
      "source": [
        "labels_dict[pred]"
      ],
      "metadata": {
        "colab": {
          "base_uri": "https://localhost:8080/",
          "height": 35
        },
        "id": "pdbSo5UMn9LO",
        "outputId": "503c7e28-6b06-49a7-f9a2-c8a81d3b7050"
      },
      "execution_count": 55,
      "outputs": [
        {
          "output_type": "execute_result",
          "data": {
            "text/plain": [
              "'cat'"
            ],
            "application/vnd.google.colaboratory.intrinsic+json": {
              "type": "string"
            }
          },
          "metadata": {},
          "execution_count": 55
        }
      ]
    }
  ]
}